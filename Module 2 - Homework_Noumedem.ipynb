{
 "cells": [
  {
   "cell_type": "markdown",
   "id": "c209b646",
   "metadata": {},
   "source": [
    "### Homework #2"
   ]
  },
  {
   "cell_type": "markdown",
   "id": "869ebfd6",
   "metadata": {},
   "source": [
    "1. Round 4.5667 to the nearest hundreth (2 decimals) using a build-in function, round()."
   ]
  },
  {
   "cell_type": "code",
   "execution_count": null,
   "id": "123658aa",
   "metadata": {},
   "outputs": [],
   "source": [
    "round(4.5667,2)"
   ]
  },
  {
   "cell_type": "markdown",
   "id": "9d3f352c",
   "metadata": {},
   "source": [
    "2. Convert \"657\" to an integer data type"
   ]
  },
  {
   "cell_type": "code",
   "execution_count": null,
   "id": "d5a67683",
   "metadata": {},
   "outputs": [],
   "source": [
    "print(int(\"657\"))"
   ]
  },
  {
   "cell_type": "markdown",
   "id": "a36f06d4",
   "metadata": {},
   "source": [
    "3. Write a program to get two numbers from a user. Then, create a 6-digit code that is a series of randomly generated numbers between the two numbers given by the user. Print the 6-digit code so all digits are separated by a dash. "
   ]
  },
  {
   "cell_type": "code",
   "execution_count": null,
   "id": "021c92d4",
   "metadata": {},
   "outputs": [],
   "source": [
    "import random as rand\n",
    "\n",
    "def code():\n",
    "    a = rand.randint(numb1,numb2)\n",
    "    b = rand.randint(numb1,numb2)\n",
    "    c = rand.randint(numb1,numb2)\n",
    "    d = rand.randint(numb1,numb2)\n",
    "    e = rand.randint(numb1,numb2)\n",
    "    f = rand.randint(numb1,numb2)\n",
    "    retval = print(f\"\\nThe secret code is {a},{b},{c},{d},{e},{f}.\")\n",
    "    return retval"
   ]
  },
  {
   "cell_type": "code",
   "execution_count": null,
   "id": "c3e7b15b",
   "metadata": {},
   "outputs": [],
   "source": [
    "print(\"**This program generate a secret code**\\n\")\n",
    "\n",
    "numb1 = int(input(\"Enter numb1: \"))\n",
    "numb2 = int(input(\"Enter numb2: \"))\n",
    "\n",
    "code()"
   ]
  },
  {
   "cell_type": "markdown",
   "id": "ee1441a1",
   "metadata": {},
   "source": [
    "4. Write a program to remove ALL the white spaces from the following text:\n",
    "\n",
    "        Hickory, dickory, dock,     \n",
    "        The mouse ran up the clock.   \n",
    "        The clock struck one,   \n",
    "        The mouse ran down,                      \n",
    "        Hickory, dickory, dock                  "
   ]
  },
  {
   "cell_type": "code",
   "execution_count": 4,
   "id": "8bf680f1",
   "metadata": {},
   "outputs": [],
   "source": [
    "line1 = \" Hickory, dickory, dock,     \"\n",
    "line2 = \" The mouse ran up the clock.   \"\n",
    "line3 = \" The clock struck one,   \"\n",
    "line4 = \" The mouse ran down,                      \"\n",
    "line5 = \" Hickory, dickory, dock                  \""
   ]
  },
  {
   "cell_type": "code",
   "execution_count": 5,
   "id": "59d9c718",
   "metadata": {},
   "outputs": [],
   "source": [
    "def blank():\n",
    "    Line1 = line1.strip()\n",
    "    Line2 = line2.strip()\n",
    "    Line3 = line3.strip()\n",
    "    Line4 = line4.strip()\n",
    "    Line5 = line5.strip()\n",
    "    retval = print(f\"{Line1}\\n{Line2}\\n{Line3}\\n{Line4}\\n{Line5}\")\n",
    "    return retval"
   ]
  },
  {
   "cell_type": "code",
   "execution_count": 6,
   "id": "11c24618",
   "metadata": {},
   "outputs": [
    {
     "name": "stdout",
     "output_type": "stream",
     "text": [
      "**This program removes spaces**\n",
      "\n",
      "Hickory, dickory, dock,\n",
      "The mouse ran up the clock.\n",
      "The clock struck one,\n",
      "The mouse ran down,\n",
      "Hickory, dickory, dock\n"
     ]
    }
   ],
   "source": [
    "print(\"**This program removes spaces**\\n\")\n",
    "\n",
    "blank()"
   ]
  },
  {
   "cell_type": "markdown",
   "id": "72d87b5b",
   "metadata": {},
   "source": [
    "5. Write a function to calculate the miles per gallon. Get a miles driven and gallons used from a user and call your function to calculate the miles per gallon."
   ]
  },
  {
   "cell_type": "code",
   "execution_count": 9,
   "id": "27be7372",
   "metadata": {},
   "outputs": [],
   "source": [
    "def mpg():\n",
    "    x = miles_driven\n",
    "    y = gallons\n",
    "    #miles_per_gallon = x/y\n",
    "    return x/y"
   ]
  },
  {
   "cell_type": "code",
   "execution_count": 10,
   "id": "6b503875",
   "metadata": {},
   "outputs": [
    {
     "name": "stdout",
     "output_type": "stream",
     "text": [
      "***This program compute the miles per gallon***\n",
      "\n",
      "Miles driven: 32\n",
      "Amount of gallons used: 4\n",
      "\n",
      "The miles per gallon is 8.0\n"
     ]
    }
   ],
   "source": [
    "print(\"***This program compute the miles per gallon***\\n\")\n",
    "\n",
    "miles_driven = int(input(\"Miles driven: \"))\n",
    "gallons = int(input(\"Amount of gallons used: \"))\n",
    "\n",
    "mpg()\n",
    "\n",
    "print(f\"\\nThe miles per gallon is {mpg()}\")\n"
   ]
  },
  {
   "cell_type": "markdown",
   "id": "1f3942b8",
   "metadata": {},
   "source": [
    "6. Enhance the <b>compute()</b> function created during Module 2. Enhance the function to compute a circle's area and circumference where:\n",
    "\n",
    " - circle's area = 3.14 X (radius X radius)   \n",
    " - circle's circumference = 3.14 X diameter"
   ]
  },
  {
   "cell_type": "code",
   "execution_count": 13,
   "id": "df43daca",
   "metadata": {},
   "outputs": [],
   "source": [
    "def compute(r, d):\n",
    "    A = 3.14 * (r * r)\n",
    "    C = 3.14 * d\n",
    "    print(f\"Diameter is {d}\")\n",
    "    print(f\"Area is {A}\")\n",
    "    print(f\"Circumference is {C}\")"
   ]
  },
  {
   "cell_type": "code",
   "execution_count": 16,
   "id": "fa8de89a",
   "metadata": {},
   "outputs": [
    {
     "name": "stdout",
     "output_type": "stream",
     "text": [
      "**The Area and Circumference Program**\n",
      "\n",
      "Please enter a radius: 4\n",
      "Diameter is 8\n",
      "Area is 50.24\n",
      "Circumference is 25.12\n"
     ]
    }
   ],
   "source": [
    "print(\"**The Area and Circumference Program**\\n\")  \n",
    "\n",
    "r = int(input(\"Please enter a radius: \"))\n",
    "d = r * 2\n",
    "\n",
    "compute(r,d)"
   ]
  },
  {
   "cell_type": "markdown",
   "id": "4c5d83bb",
   "metadata": {},
   "source": [
    "7. Write a function called multiply_two() that accepts two parameters. The function should print a message like '15 * 2 = 30'.  Randomly generate two numbers between 1 and 100, then call the function with the two random numbers."
   ]
  },
  {
   "cell_type": "code",
   "execution_count": 20,
   "id": "fe5ca2dc",
   "metadata": {},
   "outputs": [],
   "source": [
    "import random as rand\n",
    "\n",
    "def multiply_two(x,y):\n",
    "    #numb1 = x * 2\n",
    "    #numb2 = y * 2\n",
    "    #z = x * y\n",
    "    print(f\"{x} * 2 = {x*2}\")\n",
    "    print(f\"{y} * 2 = {y*2}\")\n",
    "    "
   ]
  },
  {
   "cell_type": "code",
   "execution_count": 22,
   "id": "9f83774c",
   "metadata": {},
   "outputs": [
    {
     "name": "stdout",
     "output_type": "stream",
     "text": [
      "**This program multiplies by 2**\n",
      "\n",
      "11 * 2 = 22\n",
      "75 * 2 = 150\n"
     ]
    }
   ],
   "source": [
    "print(\"**This program multiplies by 2**\\n\")\n",
    "x = rand.randint(1,100)\n",
    "y = rand.randint(1,100)\n",
    "    \n",
    "multiply_two(x,y)"
   ]
  },
  {
   "cell_type": "markdown",
   "id": "36865477",
   "metadata": {},
   "source": [
    "8. Create a function for a multiplication table.  Get a number from a user and then call you function which produces a multiplication table for that number.\n",
    "The output should look something like this:\n",
    "\n",
    "        Enter a number: 3\n",
    "        3 X 1 = 3\n",
    "        3 X 2 = 6\n",
    "        3 X 3 = 9\n",
    "        3 X 4 = 12\n",
    "        3 X 5 = 15\n",
    "        3 X 6 = 18\n",
    "        3 X 7 = 21\n",
    "        3 X 8 = 24\n",
    "        3 X 9 = 27"
   ]
  },
  {
   "cell_type": "code",
   "execution_count": 33,
   "id": "b023e863",
   "metadata": {},
   "outputs": [],
   "source": [
    "def table(x):\n",
    "    x1 = x * 1\n",
    "    x2 = x * 2\n",
    "    x3 = x * 3\n",
    "    x4 = x * 4\n",
    "    x5 = x * 5\n",
    "    x6 = x * 6\n",
    "    x7 = x * 7\n",
    "    x8 = x * 8\n",
    "    x9 = x * 9\n",
    "    retval1 = f\"{x} * 1 = {x1}\"\n",
    "    retval2 = f\"{x} * 2 = {x2}\" \n",
    "    retval3 = f\"{x} * 3 = {x3}\" \n",
    "    retval4 = f\"{x} * 4 = {x4}\" \n",
    "    retval5 = f\"{x} * 5 = {x5}\" \n",
    "    retval6 = f\"{x} * 6 = {x6}\" \n",
    "    retval7 = f\"{x} * 7 = {x7}\"\n",
    "    retval8 = f\"{x} * 8 = {x8}\" \n",
    "    retval9 = f\"{x} * 9 = {x9}\" \n",
    "    return print(f\"{retval1}\\n{retval2}\\n{retval3}\\n{retval4}\\n{retval5}\\n{retval6}\\n{retval7}\\n{retval8}\\n{retval9}\")\n",
    "    "
   ]
  },
  {
   "cell_type": "code",
   "execution_count": 34,
   "id": "563c8445",
   "metadata": {},
   "outputs": [
    {
     "name": "stdout",
     "output_type": "stream",
     "text": [
      "**Multiplication Table Program**\n",
      "\n",
      "Enter a number: 3\n",
      "3 * 1 = 3\n",
      "3 * 2 = 6\n",
      "3 * 3 = 9\n",
      "3 * 4 = 12\n",
      "3 * 5 = 15\n",
      "3 * 6 = 18\n",
      "3 * 7 = 21\n",
      "3 * 8 = 24\n",
      "3 * 9 = 27\n"
     ]
    }
   ],
   "source": [
    "print(\"**Multiplication Table Program**\\n\")\n",
    "\n",
    "x = int(input(\"Enter a number: \"))\n",
    "table(x)"
   ]
  },
  {
   "cell_type": "code",
   "execution_count": null,
   "id": "b14302ca",
   "metadata": {},
   "outputs": [],
   "source": []
  }
 ],
 "metadata": {
  "kernelspec": {
   "display_name": "Python 3 (ipykernel)",
   "language": "python",
   "name": "python3"
  },
  "language_info": {
   "codemirror_mode": {
    "name": "ipython",
    "version": 3
   },
   "file_extension": ".py",
   "mimetype": "text/x-python",
   "name": "python",
   "nbconvert_exporter": "python",
   "pygments_lexer": "ipython3",
   "version": "3.9.12"
  }
 },
 "nbformat": 4,
 "nbformat_minor": 5
}
